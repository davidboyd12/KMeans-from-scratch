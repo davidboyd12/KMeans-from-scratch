{
 "cells": [
  {
   "cell_type": "code",
   "execution_count": null,
   "id": "132c08f5",
   "metadata": {},
   "outputs": [],
   "source": [
    "seeds = pd.read_csv(\"C:\\\\Users\\\\boydd\\\\OneDrive\\\\Documents\\\\Data Mining\\\\Assignment 4\\\\Assignment 4\\\\Data for Assignment 4\\\\Data for Problem 2\\\\seeds.txt\", sep='   ', header=None)"
   ]
  },
  {
   "cell_type": "code",
   "execution_count": 3,
   "id": "91be27cb",
   "metadata": {},
   "outputs": [],
   "source": [
    "def kmeans(k, data, max_iter = 100 , min_diff = 0.001):\n",
    "    # repeat 10 times\n",
    "    # Get a list of the SSEs from all 10, use this to get an average\n",
    "    final_SSE = []\n",
    "    for j in range(10):\n",
    "        # randomly initialize k centroids\n",
    "        centroids = []\n",
    "        for centroid in range(k):\n",
    "            # my random centroids will be randomly selected points in the data to ensure\n",
    "            # they are within the range and in the proper dimension\n",
    "            centroid = data.apply(lambda x: float(x.sample()))\n",
    "            centroids.append(centroid)\n",
    "        centroids = pd.DataFrame(centroids)\n",
    "        #  start loop here\n",
    "        i = 1\n",
    "        diff = 1\n",
    "        SSE = []\n",
    "        # break the loop if the difference is no longer larger than .001\n",
    "        # or if there are 100 iterations\n",
    "        while i <= max_iter and diff > min_diff:\n",
    "            # the list of clusters corresponding to the rows of data\n",
    "            cluster = []\n",
    "            # the squared errors corresponding to every row\n",
    "            error_sq = []\n",
    "            # loop through all rows of the dataset\n",
    "            for row in range(len(data)):\n",
    "                # get a list of the distances for this row from the centroids\n",
    "                distance = []\n",
    "                for centroid in range(len(centroids)):\n",
    "                    # calculate distance for each centroid\n",
    "                    #euclidean = np.linalg.norm(data.loc[row]-centroids.loc[centroid])\n",
    "                    euclidean = math.dist(data.loc[row], centroids.loc[centroid])\n",
    "                    distance.append(euclidean)\n",
    "                # find the closest centroid by using the minimum distance\n",
    "                closest = min(distance)\n",
    "                # get the index of this centroid, this will be the assinged cluster\n",
    "                closest_ind = distance.index(min(distance))\n",
    "                cluster.append(closest_ind)\n",
    "                # square this distance to be the squared error, will be used for SSE\n",
    "                error_sq.append(closest**2)\n",
    "            # append the SSE for each iteration\n",
    "            SSE.append(sum(error_sq))\n",
    "            # calculate the difference between the last SSE and the current one\n",
    "            # if it is the first SSE, then I will set it to be 1.\n",
    "            for k in range(len(SSE)):\n",
    "                if k == 0:\n",
    "                    diff = 1\n",
    "                else:\n",
    "                    diff = SSE[k-1] - SSE[k]\n",
    "            # save the cluster corresponding to each row of data in the dataframe to have it all in one place\n",
    "            data['cluster'] = cluster\n",
    "            # calculate the new centroids to replace the randomly created ones\n",
    "            new_centroids = pd.DataFrame()\n",
    "            # loop through each centroid\n",
    "            for centroid in range(len(centroids)):\n",
    "                centroid_data = pd.DataFrame()\n",
    "                # search the data for all rows where the cluster corresponds to the current centroid\n",
    "                centroid_data = data.loc[data['cluster'] == centroid]\n",
    "                centroid_data = pd.DataFrame(centroid_data)\n",
    "                centroid_data = centroid_data.drop(['cluster'], axis=1)\n",
    "                # take the mean of the points corresponding to the current centroid\n",
    "                # append this value onto the df\n",
    "                new_centroids = new_centroids.append(centroid_data.mean(), ignore_index=True)\n",
    "            # overwrite centroids with the new centroids\n",
    "            centroids = new_centroids\n",
    "            # get rid of the cluster column, so it can be recomputed\n",
    "            data = data.drop(['cluster'], axis=1)\n",
    "            i += 1\n",
    "        # append the SSE from the final iteration (the best SSE)\n",
    "        final_SSE.append(min(SSE))\n",
    "    # take an average of the 10 SSEs\n",
    "    return sum(final_SSE) / 10"
   ]
  },
  {
   "cell_type": "code",
   "execution_count": null,
   "id": "73d1e3ec",
   "metadata": {},
   "outputs": [],
   "source": [
    "print('SSE for K-Means with k = 3: ', kmeans(3, seeds))\n",
    "print('SSE for K-Means with k = 5: ', kmeans(5, seeds))\n",
    "print('SSE for K-Means with k = 7: ', kmeans(7, seeds))"
   ]
  }
 ],
 "metadata": {
  "kernelspec": {
   "display_name": "Python 3",
   "language": "python",
   "name": "python3"
  },
  "language_info": {
   "codemirror_mode": {
    "name": "ipython",
    "version": 3
   },
   "file_extension": ".py",
   "mimetype": "text/x-python",
   "name": "python",
   "nbconvert_exporter": "python",
   "pygments_lexer": "ipython3",
   "version": "3.8.8"
  }
 },
 "nbformat": 4,
 "nbformat_minor": 5
}
